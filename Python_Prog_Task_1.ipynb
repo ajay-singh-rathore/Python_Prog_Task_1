{
  "nbformat": 4,
  "nbformat_minor": 0,
  "metadata": {
    "colab": {
      "provenance": [],
      "authorship_tag": "ABX9TyMWrjDbaCbwnWTtmnTchTAs",
      "include_colab_link": true
    },
    "kernelspec": {
      "name": "python3",
      "display_name": "Python 3"
    },
    "language_info": {
      "name": "python"
    }
  },
  "cells": [
    {
      "cell_type": "markdown",
      "metadata": {
        "id": "view-in-github",
        "colab_type": "text"
      },
      "source": [
        "<a href=\"https://colab.research.google.com/github/ajay-singh-rathore/Python_Prog_Task_1/blob/main/Python_Prog_Task_1.ipynb\" target=\"_parent\"><img src=\"https://colab.research.google.com/assets/colab-badge.svg\" alt=\"Open In Colab\"/></a>"
      ]
    },
    {
      "cell_type": "markdown",
      "source": [
        "# 1.Say \"Hello, World!\" With Python\n",
        "### Question Link : https://www.hackerrank.com/challenges/py-hello-world/problem?isFullScreen=true"
      ],
      "metadata": {
        "id": "JQPn_ymcI7FU"
      }
    },
    {
      "cell_type": "code",
      "execution_count": null,
      "metadata": {
        "id": "vURBMJQyIqK3"
      },
      "outputs": [],
      "source": [
        "if __name__ == '__main__':\n",
        "    print(\"Hello, World!\")"
      ]
    },
    {
      "cell_type": "markdown",
      "source": [
        "### 2. Python If-Else\n",
        "Question Link: https://www.hackerrank.com/challenges/py-if-else/problem?isFullScreen=true"
      ],
      "metadata": {
        "id": "vk1WgSvYJA1d"
      }
    },
    {
      "cell_type": "code",
      "source": [
        "import math\n",
        "import os\n",
        "import random\n",
        "import re\n",
        "import sys\n",
        "\n",
        "\n",
        "\n",
        "if __name__ == '__main__':\n",
        "    n = int(input().strip())\n",
        "    if n%2==0:\n",
        "        if n>=2 and n<=5:\n",
        "            print(\"Not Weird\")\n",
        "        elif n>20:\n",
        "            print(\"Not Weird\")\n",
        "        else:\n",
        "            print(\"Weird\")\n",
        "    else:\n",
        "        print(\"Weird\")\n",
        "            \n"
      ],
      "metadata": {
        "id": "OqOXukcGKcrn"
      },
      "execution_count": null,
      "outputs": []
    },
    {
      "cell_type": "markdown",
      "source": [
        "### 3.Arithmetic Operators\n",
        "Question Link : https://www.hackerrank.com/challenges/python-arithmetic-operators/problem?isFullScreen=true"
      ],
      "metadata": {
        "id": "z4H6BT0mKr6E"
      }
    },
    {
      "cell_type": "code",
      "source": [
        "if __name__ == '__main__':\n",
        "    a = int(input())\n",
        "    b = int(input())\n",
        "    print(a+b)\n",
        "    print(a-b)\n",
        "    print(a*b)"
      ],
      "metadata": {
        "id": "-FS7xpEXKx9Z"
      },
      "execution_count": null,
      "outputs": []
    },
    {
      "cell_type": "markdown",
      "source": [
        "### 4.Python: Division\n",
        "Question Link:https://www.hackerrank.com/challenges/python-division/problem?isFullScreen=true"
      ],
      "metadata": {
        "id": "Pi6Mj1VHLw67"
      }
    },
    {
      "cell_type": "code",
      "source": [
        "if __name__ == '__main__':\n",
        "    a = int(input())\n",
        "    b = int(input())\n",
        "    print(a//b)\n",
        "    print(a/b)"
      ],
      "metadata": {
        "id": "cLFUfCQRL1TY"
      },
      "execution_count": null,
      "outputs": []
    },
    {
      "cell_type": "markdown",
      "source": [
        "### 5.Loops\n",
        "Question Link : https://www.hackerrank.com/challenges/python-loops/problem?isFullScreen=**true**"
      ],
      "metadata": {
        "id": "aXGrq_k4MVCN"
      }
    },
    {
      "cell_type": "code",
      "source": [
        "if __name__ == '__main__':\n",
        "    n = int(input())\n",
        "    \n",
        "    if n>0:\n",
        "        for i in range(n):\n",
        "            print(i**2)"
      ],
      "metadata": {
        "id": "KS7V5YnyMd7h"
      },
      "execution_count": null,
      "outputs": []
    },
    {
      "cell_type": "markdown",
      "source": [
        "### 6.Write a function\n",
        "Question Link: https://www.hackerrank.com/challenges/write-a-function/problem?isFullScreen=true\n"
      ],
      "metadata": {
        "id": "urmC9wWhPCrJ"
      }
    },
    {
      "cell_type": "code",
      "source": [
        "def is_leap(year):\n",
        "    leap = False\n",
        "    if(year % 400 == 0):\n",
        "        leap = True\n",
        "    elif(year % 4 == 0 and year % 100 != 0):\n",
        "        leap = True\n",
        "    return leap\n",
        "year = int(input())\n",
        "print(is_leap(year))"
      ],
      "metadata": {
        "id": "NAVjm5jLPXPm"
      },
      "execution_count": null,
      "outputs": []
    },
    {
      "cell_type": "markdown",
      "source": [
        "### 7.Print Function\n",
        "Question Solution: https://www.hackerrank.com/challenges/python-print/problem?isFullScreen=true"
      ],
      "metadata": {
        "id": "Je1epvOkLsss"
      }
    },
    {
      "cell_type": "code",
      "source": [
        "if __name__ == '__main__':\n",
        "    n = int(input())\n",
        "    for i in range(1,n+1):\n",
        "        print(i,end=\"\")"
      ],
      "metadata": {
        "id": "jksU6CYKL4F7"
      },
      "execution_count": null,
      "outputs": []
    }
  ]
}